{
 "cells": [
  {
   "cell_type": "code",
   "execution_count": 1,
   "metadata": {
    "collapsed": true
   },
   "outputs": [],
   "source": [
    "# backpropagation example for deep learning in python class.\n",
    "# with sigmoid activation"
   ]
  },
  {
   "cell_type": "code",
   "execution_count": 2,
   "metadata": {
    "collapsed": true
   },
   "outputs": [],
   "source": [
    "from __future__ import print_function, division\n",
    "from builtins import range"
   ]
  },
  {
   "cell_type": "code",
   "execution_count": 3,
   "metadata": {
    "collapsed": true
   },
   "outputs": [],
   "source": [
    "import numpy as np\n",
    "import matplotlib.pyplot as plt"
   ]
  },
  {
   "cell_type": "code",
   "execution_count": 4,
   "metadata": {
    "collapsed": true
   },
   "outputs": [],
   "source": [
    "np.random.seed(1)\n",
    "\n",
    "# forward bias function\n",
    "def forward(X, W1, b1, W2, b2):\n",
    "    Z = 1 / (1 + np.exp(-X.dot(W1) - b1))\n",
    "    A = Z.dot(W2) + b1\n",
    "    expA = np.exp(A)\n",
    "    Y = expA / expA.sum(axis = 1, keepdims = True)\n",
    "    return Y, Z\n"
   ]
  },
  {
   "cell_type": "code",
   "execution_count": 5,
   "metadata": {
    "collapsed": true
   },
   "outputs": [],
   "source": [
    "# determine classification rate \n",
    "# num correct / num total\n",
    "def classification_rate(Y, P):\n",
    "    n_correct = 0\n",
    "    n_total = 0\n",
    "    for i in range(len(Y)):\n",
    "        n_total += 1\n",
    "        if Y[i] == P[i]:\n",
    "            n_correct += 1\n",
    "    return float(n_correct) / n_total"
   ]
  },
  {
   "cell_type": "code",
   "execution_count": 7,
   "metadata": {
    "collapsed": true
   },
   "outputs": [],
   "source": [
    "# we will calculate the derivatives .. starting from right"
   ]
  },
  {
   "cell_type": "code",
   "execution_count": 8,
   "metadata": {
    "collapsed": true
   },
   "outputs": [],
   "source": [
    "# derivative wrt W2\n",
    "def derivative_w2(Z, T, Y):\n",
    "    N, K = T.shape\n",
    "    M = Z.shape[1] # H is (N, M)\n",
    "\n",
    "    # # slow\n",
    "    # ret1 = np.zeros((M, K))\n",
    "    # for n in xrange(N):\n",
    "    #     for m in xrange(M):\n",
    "    #         for k in xrange(K):\n",
    "    #             ret1[m,k] += (T[n,k] - Y[n,k])*Z[n,m]\n",
    "\n",
    "    # # a bit faster - let's not loop over m\n",
    "    # ret2 = np.zeros((M, K))\n",
    "    # for n in xrange(N):\n",
    "    #     for k in xrange(K):\n",
    "    #         ret2[:,k] += (T[n,k]* - Y[n,k])*Z[n,:]\n",
    "\n",
    "    # assert(np.abs(ret1 - ret2).sum() < 0.00001)\n",
    "\n",
    "    # # even faster  - let's not loop over k either\n",
    "    # ret3 = np.zeros((M, K))\n",
    "    # for n in xrange(N): # slow way first\n",
    "    #     ret3 += np.outer( Z[n], T[n] - Y[n] )\n",
    "\n",
    "    # assert(np.abs(ret1 - ret3).sum() < 0.00001)\n",
    "\n",
    "    # fastest - let's not loop over anything\n",
    "    ret4 = Z.T.dot(T - Y) # transpose of Z matrix_multiplication with (T-Y)\n",
    "    # assert(np.abs(ret1 - ret4).sum() < 0.00001)\n",
    "\n",
    "    return ret4"
   ]
  },
  {
   "cell_type": "code",
   "execution_count": 10,
   "metadata": {
    "collapsed": true
   },
   "outputs": [],
   "source": [
    "# derivative wrt W1\n",
    "def derivative_w1(X, Z, T, Y, W2):\n",
    "    N, D = X.shape\n",
    "    M, K = W2.shape\n",
    "\n",
    "    # slow way first\n",
    "    # ret1 = np.zeros((X.shape[1], M))\n",
    "    # for n in xrange(N):\n",
    "    #     for k in xrange(K):\n",
    "    #         for m in xrange(M):\n",
    "    #             for d in xrange(D):\n",
    "    #                 ret1[d,m] += (T[n,k] - Y[n,k])*W2[m,k]*Z[n,m]*(1 - Z[n,m])*X[n,d]\n",
    "\n",
    "    # fastest\n",
    "    # transpose as per necessity considering the dimensions for matrix multiplication\n",
    "    dZ = (T - Y).dot(W2.T) * Z * (1 - Z) \n",
    "    ret2 = X.T.dot(dZ)\n",
    "\n",
    "    # assert(np.abs(ret1 - ret2).sum() < 0.00001)\n",
    "\n",
    "    return ret2"
   ]
  },
  {
   "cell_type": "code",
   "execution_count": 11,
   "metadata": {
    "collapsed": true
   },
   "outputs": [],
   "source": [
    "# derivative wrt b2\n",
    "def derivative_b2(T, Y):\n",
    "    return (T - Y).sum(axis=0)\n",
    "\n",
    "# derivative wrt b1\n",
    "def derivative_b1(T, Y, W2, Z):\n",
    "    return ((T - Y).dot(W2.T) * Z * (1 - Z)).sum(axis=0)"
   ]
  },
  {
   "cell_type": "code",
   "execution_count": 12,
   "metadata": {
    "collapsed": true
   },
   "outputs": [],
   "source": [
    "# define cost function\n",
    "def cost(T, Y):\n",
    "    tot = T * np.log(Y)\n",
    "    return tot.sum()\n"
   ]
  },
  {
   "cell_type": "markdown",
   "metadata": {},
   "source": [
    "Main function starts here "
   ]
  },
  {
   "cell_type": "code",
   "execution_count": 13,
   "metadata": {
    "collapsed": false
   },
   "outputs": [
    {
     "name": "stdout",
     "output_type": "stream",
     "text": [
      "cost: -2881.49974279 classification_rate: 0.09666666666666666\n",
      "cost: -191.103596876 classification_rate: 0.9633333333333334\n",
      "cost: -147.910466148 classification_rate: 0.9673333333333334\n",
      "cost: -136.291019791 classification_rate: 0.9686666666666667\n",
      "cost: -127.167135048 classification_rate: 0.9686666666666667\n",
      "cost: -119.220172014 classification_rate: 0.9673333333333334\n",
      "cost: -114.820926628 classification_rate: 0.9686666666666667\n",
      "cost: -112.554212879 classification_rate: 0.968\n",
      "cost: -111.541231087 classification_rate: 0.9693333333333334\n",
      "cost: -111.032532973 classification_rate: 0.9693333333333334\n"
     ]
    }
   ],
   "source": [
    "# Main function starts here\n",
    "def main():\n",
    "    # create the data\n",
    "    Nclass = 500\n",
    "    D = 2 # dimensionality of input\n",
    "    M = 3 # hidden layer size\n",
    "    K = 3 # number of classes\n",
    "\n",
    "    X1 = np.random.randn(Nclass, D) + np.array([0, -2])\n",
    "    X2 = np.random.randn(Nclass, D) + np.array([2, 2])\n",
    "    X3 = np.random.randn(Nclass, D) + np.array([-2, 2])\n",
    "    X = np.vstack([X1, X2, X3])\n",
    "\n",
    "    Y = np.array([0]*Nclass + [1]*Nclass + [2]*Nclass)\n",
    "    N = len(Y)\n",
    "    # turn Y into an indicator matrix for training\n",
    "    T = np.zeros((N, K))\n",
    "    for i in range(N):\n",
    "        T[i, Y[i]] = 1\n",
    "\n",
    "    # let's see what it looks like\n",
    "    plt.scatter(X[:,0], X[:,1], c=Y, s=100, alpha=0.5)\n",
    "    plt.show()\n",
    "\n",
    "    # randomly initialize weights\n",
    "    W1 = np.random.randn(D, M)\n",
    "    b1 = np.random.randn(M)\n",
    "    W2 = np.random.randn(M, K)\n",
    "    b2 = np.random.randn(K)\n",
    "\n",
    "    learning_rate = 1e-3\n",
    "    costs = []\n",
    "    for epoch in range(1000):\n",
    "        output, hidden = forward(X, W1, b1, W2, b2)\n",
    "        if epoch % 100 == 0:\n",
    "            c = cost(T, output)\n",
    "            P = np.argmax(output, axis=1) # determines the class based on the max probability\n",
    "            r = classification_rate(Y, P)\n",
    "            print(\"cost:\", c, \"classification_rate:\", r)\n",
    "            costs.append(c)\n",
    "\n",
    "        # this is gradient ASCENT, not DESCENT\n",
    "        # be comfortable with both!\n",
    "        # oldW2 = W2.copy()\n",
    "        W2 += learning_rate * derivative_w2(hidden, T, output)\n",
    "        b2 += learning_rate * derivative_b2(T, output)\n",
    "        W1 += learning_rate * derivative_w1(X, hidden, T, output, W2)\n",
    "        b1 += learning_rate * derivative_b1(T, output, W2, hidden)\n",
    "\n",
    "    plt.plot(costs)\n",
    "    plt.show()\n",
    "\n",
    "\n",
    "if __name__ == '__main__':\n",
    "    main()"
   ]
  },
  {
   "cell_type": "code",
   "execution_count": null,
   "metadata": {
    "collapsed": true
   },
   "outputs": [],
   "source": []
  }
 ],
 "metadata": {
  "kernelspec": {
   "display_name": "Python 3",
   "language": "python",
   "name": "python3"
  },
  "language_info": {
   "codemirror_mode": {
    "name": "ipython",
    "version": 3
   },
   "file_extension": ".py",
   "mimetype": "text/x-python",
   "name": "python",
   "nbconvert_exporter": "python",
   "pygments_lexer": "ipython3",
   "version": "3.5.1"
  }
 },
 "nbformat": 4,
 "nbformat_minor": 0
}

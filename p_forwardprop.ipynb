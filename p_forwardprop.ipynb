{
 "cells": [
  {
   "cell_type": "markdown",
   "metadata": {},
   "source": [
    "# Forward Propagation"
   ]
  },
  {
   "cell_type": "markdown",
   "metadata": {},
   "source": [
    "### forward propagation example for deep learning in python class."
   ]
  },
  {
   "cell_type": "code",
   "execution_count": 77,
   "metadata": {
    "collapsed": false
   },
   "outputs": [],
   "source": [
    "# libraries\n",
    "from __future__ import print_function, division\n",
    "from builtins import range\n",
    "\n",
    "import numpy as np\n",
    "import matplotlib.pyplot as plt"
   ]
  },
  {
   "cell_type": "code",
   "execution_count": 78,
   "metadata": {
    "collapsed": true
   },
   "outputs": [],
   "source": [
    "Nclass = 500\n",
    "\n",
    "# random inputs \n",
    "X1 = np.random.randn(Nclass,2) + np.array([0,-2])\n",
    "X2 = np.random.randn(Nclass,2) + np.array([2,2])\n",
    "X3 = np.random.randn(Nclass,2) + np.array([-2,2])\n",
    "X = np.vstack([X1,X2,X3])\n",
    "\n",
    "# output classes\n",
    "Y = np.array([0]*Nclass + [1]*Nclass + [2]*Nclass)\n"
   ]
  },
  {
   "cell_type": "code",
   "execution_count": 79,
   "metadata": {
    "collapsed": false
   },
   "outputs": [
    {
     "data": {
      "text/plain": [
       "<matplotlib.collections.PathCollection at 0x2c17dd309e8>"
      ]
     },
     "execution_count": 79,
     "metadata": {},
     "output_type": "execute_result"
    }
   ],
   "source": [
    "# lets plot the data\n",
    "plt.scatter(X[:,0], X[:,1], c=Y, s=100, alpha=0.5)\n",
    "#plt.show()"
   ]
  },
  {
   "cell_type": "markdown",
   "metadata": {},
   "source": [
    "### The prediction algorith starts here"
   ]
  },
  {
   "cell_type": "code",
   "execution_count": 80,
   "metadata": {
    "collapsed": false
   },
   "outputs": [],
   "source": [
    "# initialize weights (randomly for demo purpose).. training will come next\n",
    "D = 2 # input dimensions or features in the model\n",
    "M = 3 # hidden layer size\n",
    "K = 3 # no of classes\n",
    "W1 = np.random.randn(D,M)\n",
    "b1 = np.random.randn(M)\n",
    "W2 = np.random.randn(M,K)\n",
    "b2 = np.random.randn(K)\n"
   ]
  },
  {
   "cell_type": "code",
   "execution_count": 81,
   "metadata": {
    "collapsed": true
   },
   "outputs": [],
   "source": [
    "# define activation function here\n",
    "def sigmoid(a):\n",
    "    return 1 / (1 + np.exp(-a))"
   ]
  },
  {
   "cell_type": "code",
   "execution_count": 82,
   "metadata": {
    "collapsed": true
   },
   "outputs": [],
   "source": [
    "# define forward propagation function\n",
    "def forward(X, W1, b1, W2, b2):\n",
    "    Z = sigmoid(X.dot(W1) + b1) # sigmoid\n",
    "    # Z = np.tanh(X.dot(W1) + b1) # tanh\n",
    "    # Z = np.maximum(X.dot(W1) + b1) # relu\n",
    "    A = Z.dot(W2) + b2\n",
    "    expA = np.exp(A) # removes any negative A's from previous step \n",
    "    Y = expA / expA.sum(axis = 1, keepdims = True)\n",
    "    return Y\n"
   ]
  },
  {
   "cell_type": "code",
   "execution_count": 83,
   "metadata": {
    "collapsed": true
   },
   "outputs": [],
   "source": [
    "# determine the classification rate\n",
    "# num correct / num total\n",
    "def classification_rate(Y, P):\n",
    "    n_correct = 0\n",
    "    n_total = 0\n",
    "    for i in range(len(Y)):\n",
    "        n_total += 1\n",
    "        if Y[i] == P[i]:\n",
    "            n_correct += 1\n",
    "    return float(n_correct) / n_total"
   ]
  },
  {
   "cell_type": "code",
   "execution_count": 84,
   "metadata": {
    "collapsed": false
   },
   "outputs": [
    {
     "name": "stdout",
     "output_type": "stream",
     "text": [
      "Classifcation rate for randomly chosen weights:  0.3333333333333333\n"
     ]
    }
   ],
   "source": [
    "# checking the classification rate\n",
    "P_Y_given_X = forward(X, W1, b1, W2, b2)\n",
    "P = np.argmax(P_Y_given_X, axis = 1)\n",
    "\n",
    "# verify we choose the correct axis \n",
    "assert(len(P) == len(Y))\n",
    "\n",
    "print(\"Classifcation rate for randomly chosen weights: \", classification_rate(Y,P))"
   ]
  },
  {
   "cell_type": "code",
   "execution_count": null,
   "metadata": {
    "collapsed": true
   },
   "outputs": [],
   "source": []
  }
 ],
 "metadata": {
  "kernelspec": {
   "display_name": "Python 3",
   "language": "python",
   "name": "python3"
  },
  "language_info": {
   "codemirror_mode": {
    "name": "ipython",
    "version": 3
   },
   "file_extension": ".py",
   "mimetype": "text/x-python",
   "name": "python",
   "nbconvert_exporter": "python",
   "pygments_lexer": "ipython3",
   "version": "3.5.1"
  }
 },
 "nbformat": 4,
 "nbformat_minor": 0
}
